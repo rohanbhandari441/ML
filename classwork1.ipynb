{
 "cells": [
  {
   "cell_type": "code",
   "execution_count": 26,
   "id": "9eb6b56c",
   "metadata": {},
   "outputs": [
    {
     "name": "stdout",
     "output_type": "stream",
     "text": [
      "['rohan', 'chetan', 'dheeraj', 'raj', 'naman', 'dheeraj']\n",
      "dheeraj\n",
      "naman\n",
      "dheeraj\n"
     ]
    }
   ],
   "source": [
    "list1=[\"rohan\",\"chetan\",\"dheeraj\",\"raj\",\"naman\",\"dheeraj\"]\n",
    "print(list1)\n",
    "for x in list1:\n",
    "   if x==\"dheeraj\":\n",
    "      print(\"dheeraj\")\n",
    "      \n",
    "   if x==\"naman\":\n",
    "        print(\"naman\")\n",
    "   \n"
   ]
  },
  {
   "cell_type": "code",
   "execution_count": 1,
   "id": "d4f41505",
   "metadata": {},
   "outputs": [
    {
     "name": "stdout",
     "output_type": "stream",
     "text": [
      "111 222 333\n",
      "['111', '222', '333']\n",
      "['333', '222', '111']\n"
     ]
    }
   ],
   "source": [
    "x=input()\n",
    "list1=x.split()\n",
    "print(list1)\n",
    "list1.reverse()\n",
    "print(list1)\n"
   ]
  },
  {
   "cell_type": "code",
   "execution_count": 7,
   "id": "01607258",
   "metadata": {},
   "outputs": [
    {
     "name": "stdout",
     "output_type": "stream",
     "text": [
      "1 2 3 4 \n",
      "1 2 3 4\n",
      "['1', '2', '3', '4']\n",
      "['1', '2', '3', '4']\n",
      "equal\n"
     ]
    }
   ],
   "source": [
    "x=input()\n",
    "y=input()\n",
    "list1=x.split()\n",
    "list2=y.split()\n",
    "print(list1)\n",
    "print(list2)\n",
    "if list1==list2:\n",
    "   print(\"equal\")\n",
    "else :\n",
    "     print(\"not equal\")"
   ]
  },
  {
   "cell_type": "code",
   "execution_count": 8,
   "id": "9b19be24",
   "metadata": {},
   "outputs": [
    {
     "name": "stdout",
     "output_type": "stream",
     "text": [
      "22 33 22 44\n",
      "true\n"
     ]
    }
   ],
   "source": [
    "x=input()\n",
    "list1=x.split()\n",
    "set1=set(list1)\n",
    "if len(list1)==len(set1):\n",
    "   print(\"false\")\n",
    "else:\n",
    "    print(\"true\")"
   ]
  },
  {
   "cell_type": "code",
   "execution_count": 10,
   "id": "7628ac72",
   "metadata": {},
   "outputs": [
    {
     "name": "stdout",
     "output_type": "stream",
     "text": [
      "ram\n",
      "rom\n",
      "cd\n"
     ]
    }
   ],
   "source": [
    "list1=[\"ram\",\"rom\",\"cpu\",\"cd\"]\n",
    "for x in list1:\n",
    "  #print(x)\n",
    "  if x==\"cpu\":\n",
    "    del list1[2]\n",
    "    for x in list1: \n",
    "        print(x)"
   ]
  },
  {
   "cell_type": "code",
   "execution_count": 24,
   "id": "2277f12c",
   "metadata": {},
   "outputs": [
    {
     "name": "stdout",
     "output_type": "stream",
     "text": [
      "ram\n",
      "cpu\n",
      "cd\n"
     ]
    }
   ],
   "source": [
    "list1=[\"ram\",\"rom\",\"cpu\",\"cd\"]\n",
    "for x in list1:\n",
    "     if x==\"rom\":\n",
    "        continue\n",
    "     print(x)"
   ]
  },
  {
   "cell_type": "code",
   "execution_count": 1,
   "id": "c25bc3ef",
   "metadata": {},
   "outputs": [
    {
     "name": "stdout",
     "output_type": "stream",
     "text": [
      "n=3\n",
      "3 x 1 = 3\n",
      "3 x 2 = 6\n",
      "3 x 3 = 9\n",
      "3 x 4 = 12\n",
      "3 x 5 = 15\n",
      "3 x 6 = 18\n",
      "3 x 7 = 21\n",
      "3 x 8 = 24\n",
      "3 x 9 = 27\n",
      "3 x 10 = 30\n"
     ]
    }
   ],
   "source": [
    "#print the table of the no entered\n",
    "a=int(input(\"n=\"))\n",
    "list1=[1,2,3,4,5,6,7,8,9,10]\n",
    "for x in list1:\n",
    "    n=a*x\n",
    "    print(a,\"x\",x,\"=\",n)"
   ]
  },
  {
   "cell_type": "code",
   "execution_count": 16,
   "id": "8aaca3f2",
   "metadata": {},
   "outputs": [
    {
     "name": "stdout",
     "output_type": "stream",
     "text": [
      "enter the no of elements3\n",
      "enter the elements 1\n",
      "1\n",
      "enter the elements 2\n",
      "2\n",
      "enter the elements 3\n",
      "3\n",
      "[1, 2, 3]\n"
     ]
    }
   ],
   "source": [
    "#add the entered elements in the list\n",
    "list1=[]\n",
    "a=int(input(\"enter the no of elements\"))\n",
    "\n",
    "\n",
    "for i in range(a):\n",
    "    x=int(input(\"enter the elements \"))\n",
    "    list1.append(x)\n",
    "    print(x)\n",
    "print(list1)\n",
    "    "
   ]
  },
  {
   "cell_type": "code",
   "execution_count": 17,
   "id": "ad94cc68",
   "metadata": {},
   "outputs": [
    {
     "name": "stdout",
     "output_type": "stream",
     "text": [
      "enter the no of persons: 3\n",
      "enter the names of the persons:\n",
      "rohan chetan naman\n",
      "the user has entered:  ['rohan', 'chetan', 'naman']\n",
      "Hello rohan , How are you?\n",
      "Hello chetan , How are you?\n",
      "Hello naman , How are you?\n"
     ]
    }
   ],
   "source": [
    "#hello hi\n",
    "x=int(input(\"enter the no of persons: \"))\n",
    "print(\"enter the names of the persons:\")\n",
    "y=input()\n",
    "arr=y.split()\n",
    "print(\"the user has entered: \", arr)\n",
    "for i in range(x):\n",
    " print(\"Hello\", arr[i],\", \" \"How are you?\")\n",
    " i=i+1\n"
   ]
  },
  {
   "cell_type": "code",
   "execution_count": 29,
   "id": "0bd50bd9",
   "metadata": {},
   "outputs": [
    {
     "name": "stdout",
     "output_type": "stream",
     "text": [
      "enter the marks scored40\n",
      "The grade obtained is E\n"
     ]
    }
   ],
   "source": [
    "#marks grading\n",
    "m=int(input(\"enter the marks scored\"))\n",
    "for i in range(m):\n",
    "    if m>=40 and m<50:\n",
    "     print(\"The grade obtained is E\")\n",
    "     break\n",
    "    elif m>=50 and m<60:\n",
    "     print(\"The grade obtained is D\")\n",
    "     break\n",
    "    elif m>=60 and m<70:\n",
    "     print(\"The grade obtained is c\")\n",
    "     break\n",
    "    elif m>=70 and m<80:\n",
    "     print(\"The grade obtained is B\")\n",
    "     break\n",
    "    elif m>=80 and m<90:\n",
    "         print(\"The grade obtained is A\")\n",
    "         break\n",
    "    elif m>=90 and m<100:\n",
    "         print(\"The grade obtained is S\")\n",
    "         break\n",
    "    else:\n",
    "         print(\"The grade obatained is F\")\n",
    "            \n",
    "        \n",
    "    "
   ]
  },
  {
   "cell_type": "code",
   "execution_count": 69,
   "id": "b511c7bc",
   "metadata": {},
   "outputs": [
    {
     "name": "stdout",
     "output_type": "stream",
     "text": [
      "enter the number of elements:5\n",
      "enter the numbers: 12\n",
      "enter the numbers: 13\n",
      "enter the numbers: 14\n",
      "enter the numbers: 69\n",
      "enter the numbers: 96\n",
      "even list:  [12, 14, 96]\n",
      "odd list:  [13, 69]\n"
     ]
    }
   ],
   "source": [
    "#7)seperate even odd\n",
    "\n",
    "\n",
    "list1=[]\n",
    "list2=[]\n",
    "list3=[]\n",
    "a=int(input(\"enter the number of elements:\"))\n",
    "for x in range(1,a+1):\n",
    "    y=int(input(\"enter the numbers: \"))\n",
    "    list1.append(y)\n",
    "    if y%2==0:\n",
    "        list2.append(y)\n",
    "       \n",
    "    else:\n",
    "        list3.append(y)\n",
    "        \n",
    "print(\"even list: \",list2)\n",
    "print(\"odd list: \",list3)\n",
    "        "
   ]
  },
  {
   "cell_type": "code",
   "execution_count": 66,
   "id": "9544df00",
   "metadata": {},
   "outputs": [
    {
     "name": "stdout",
     "output_type": "stream",
     "text": [
      "1\n",
      "2\n",
      "3\n",
      "4\n",
      "5\n",
      "6\n",
      "7\n",
      "8\n",
      "9\n",
      "10\n"
     ]
    }
   ],
   "source": [
    "#1)1st 10 natural nos\n",
    "for x in range(1,11):\n",
    "    print(x)"
   ]
  },
  {
   "cell_type": "code",
   "execution_count": 78,
   "id": "0607f17a",
   "metadata": {},
   "outputs": [
    {
     "name": "stdout",
     "output_type": "stream",
     "text": [
      "[1, 3, 5, 7, 9, 11, 13, 15, 17, 19]\n"
     ]
    }
   ],
   "source": [
    "#4)1st 10 odd nos\n",
    "list1=[]\n",
    "for x in range(1,20,2):\n",
    "  \n",
    "    list1.append(x)\n",
    "\n",
    "print(list1)"
   ]
  },
  {
   "cell_type": "code",
   "execution_count": 79,
   "id": "84b5ada3",
   "metadata": {},
   "outputs": [
    {
     "name": "stdout",
     "output_type": "stream",
     "text": [
      "[18, 16, 14, 12, 10, 8, 6, 4, 2, 0]\n"
     ]
    }
   ],
   "source": [
    "#5)1st 10 even nos in rev order\n",
    "list1=[]\n",
    "for x in range(0,20,2):\n",
    "    list1.append(x)\n",
    "list1.reverse()\n",
    "print(list1)"
   ]
  },
  {
   "cell_type": "code",
   "execution_count": null,
   "id": "2cc1c10d",
   "metadata": {},
   "outputs": [],
   "source": []
  }
 ],
 "metadata": {
  "kernelspec": {
   "display_name": "Python 3 (ipykernel)",
   "language": "python",
   "name": "python3"
  },
  "language_info": {
   "codemirror_mode": {
    "name": "ipython",
    "version": 3
   },
   "file_extension": ".py",
   "mimetype": "text/x-python",
   "name": "python",
   "nbconvert_exporter": "python",
   "pygments_lexer": "ipython3",
   "version": "3.10.9"
  }
 },
 "nbformat": 4,
 "nbformat_minor": 5
}
