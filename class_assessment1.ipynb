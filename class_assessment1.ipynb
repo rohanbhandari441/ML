{
 "cells": [
  {
   "cell_type": "code",
   "execution_count": 54,
   "id": "f74f2f69",
   "metadata": {},
   "outputs": [
    {
     "name": "stdout",
     "output_type": "stream",
     "text": [
      "enter the number: 77\n",
      "not prime number\n",
      "77 divisible by 7\n",
      "77 divisible by 11\n"
     ]
    }
   ],
   "source": [
    "#check if the given no is prime or not, if not then check its divisibility by 3,7,9,11\n",
    "num=int(input(\"enter the number: \"))\n",
    "count=0\n",
    "for i in range(num):\n",
    "    i=i+1\n",
    "    if (num%i)==0:\n",
    "        count=count+1\n",
    "    else:\n",
    "        continue\n",
    "   \n",
    "if count<=2:\n",
    "    print(\"prime number\")\n",
    "   \n",
    "else:\n",
    "    print(\"not prime number\")\n",
    "   \n",
    "    if num%3==0:\n",
    "        print(num,\"divisible by 3\")\n",
    "       \n",
    "    if num%7==0:\n",
    "        print(num,\"divisible by 7\")\n",
    "           \n",
    "    if num%9==0:\n",
    "        print(num,\"divisible by 9\")\n",
    "       \n",
    "    if num%11==0:\n",
    "        print(num,\"divisible by 11\")\n"
   ]
  },
  {
   "cell_type": "code",
   "execution_count": 55,
   "id": "c86cdbe2",
   "metadata": {},
   "outputs": [
    {
     "name": "stdout",
     "output_type": "stream",
     "text": [
      "enter the no: 11\n",
      "enter the no: 22\n",
      "enter the no: 33\n",
      "enter the no: 44\n",
      "enter the no: 55\n",
      "enter the no: 66\n",
      "enter the no: 77\n",
      "enter the no: 88\n",
      "enter the no: 99\n",
      "enter the no: 08\n",
      "list is:  [11, 22, 33, 44, 55, 66, 77, 88, 99, 8]\n",
      "even:  [22, 44, 66, 88, 8]\n",
      "odd:  [11, 33, 55, 77, 99]\n"
     ]
    }
   ],
   "source": [
    "#python program to seperate the even and odd numbers in an entered list\n",
    "list1=[]\n",
    "list2=[]\n",
    "list3=[]\n",
    "for i in range(10):\n",
    "    y=int(input(\"enter the no: \"))\n",
    "    list1.append(y)\n",
    "    if y%2==0:\n",
    "        list2.append(y)\n",
    "    else:\n",
    "        list3.append(y)\n",
    "print(\"list is: \",list1)\n",
    "print(\"even: \",list2)\n",
    "print(\"odd: \",list3)"
   ]
  },
  {
   "cell_type": "code",
   "execution_count": 64,
   "id": "212e0870",
   "metadata": {},
   "outputs": [
    {
     "name": "stdout",
     "output_type": "stream",
     "text": [
      "enter2345432\n",
      "2345432\n",
      "palindrome\n"
     ]
    }
   ],
   "source": [
    "#python program to check if the entered string is palindrome\n",
    "x=input(\"enter\")\n",
    "print(x)\n",
    "if x[::-1]==x:\n",
    "    print(\"palindrome\")\n",
    "else:\n",
    "    print(\"not a palindrome\")"
   ]
  },
  {
   "cell_type": "code",
   "execution_count": null,
   "id": "9aa12b6e",
   "metadata": {},
   "outputs": [],
   "source": [
    "r=int(input())\n",
    "if r==4:\n",
    "    print(\"*\")\n",
    "    print(\"**\")\n",
    "    print(\"***\")\n",
    "    print(\"****\")"
   ]
  },
  {
   "cell_type": "code",
   "execution_count": null,
   "id": "45a74c4c",
   "metadata": {},
   "outputs": [],
   "source": []
  }
 ],
 "metadata": {
  "kernelspec": {
   "display_name": "Python 3 (ipykernel)",
   "language": "python",
   "name": "python3"
  },
  "language_info": {
   "codemirror_mode": {
    "name": "ipython",
    "version": 3
   },
   "file_extension": ".py",
   "mimetype": "text/x-python",
   "name": "python",
   "nbconvert_exporter": "python",
   "pygments_lexer": "ipython3",
   "version": "3.10.9"
  }
 },
 "nbformat": 4,
 "nbformat_minor": 5
}
