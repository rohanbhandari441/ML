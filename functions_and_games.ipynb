{
 "cells": [
  {
   "cell_type": "code",
   "execution_count": null,
   "id": "67878efa",
   "metadata": {},
   "outputs": [],
   "source": [
    "def sum():\n",
    "    for x in range(2):\n",
    "        x=int(input(\"enter a no.\"))\n",
    "        y=int(input(\"enter 3rd no.\"))\n",
    "        print(\"sum: \",x+y)\n",
    "\n",
    "sum()\n",
    "        \n",
    "    "
   ]
  },
  {
   "cell_type": "code",
   "execution_count": 4,
   "id": "f6dbe729",
   "metadata": {},
   "outputs": [
    {
     "name": "stdout",
     "output_type": "stream",
     "text": [
      "enter a no.5\n",
      "enter a no.5\n",
      "sum 10\n",
      "enter a no.6\n",
      "enter a no.9\n",
      "sum 15\n"
     ]
    }
   ],
   "source": [
    "def sum(x,y):\n",
    "    print(\"sum\",x+y)\n",
    "for x in range(2):\n",
    "    x=int(input(\"enter a no.\"))\n",
    "    y=int(input(\"enter a no.\"))\n",
    "    sum(x,y)\n",
    "#return sum\n"
   ]
  },
  {
   "cell_type": "code",
   "execution_count": 10,
   "id": "81f4348f",
   "metadata": {},
   "outputs": [
    {
     "name": "stdout",
     "output_type": "stream",
     "text": [
      "15\n"
     ]
    }
   ],
   "source": [
    "def sum(*num):\n",
    "    sum=0\n",
    "    for i in num:\n",
    "        sum+=i\n",
    "    return sum\n",
    "\n",
    "print(sum(1,2,3,4,5))"
   ]
  },
  {
   "cell_type": "code",
   "execution_count": 11,
   "id": "3637a8f8",
   "metadata": {},
   "outputs": [
    {
     "name": "stdout",
     "output_type": "stream",
     "text": [
      "hello\n",
      "rohan 01fe21bec170 ece "
     ]
    }
   ],
   "source": [
    "def greet(**name):\n",
    "    print(\"hello\")\n",
    "    for key,value in name.items():\n",
    "        print(value, end=\" \")\n",
    "greet(name=\"rohan\",usn=\"01fe21bec170\",branch=\"ece\")"
   ]
  },
  {
   "cell_type": "code",
   "execution_count": 17,
   "id": "158b748b",
   "metadata": {},
   "outputs": [
    {
     "name": "stdout",
     "output_type": "stream",
     "text": [
      "enter no of times you want to play: 4\n",
      "enter any no between 1 and 9: 5\n",
      "5\n",
      "5\n",
      "tie\n",
      "enter any no between 1 and 9: 2\n",
      "3\n",
      "2\n",
      "you lose\n",
      "enter any no between 1 and 9: 7\n",
      "9\n",
      "7\n",
      "you lose\n",
      "enter any no between 1 and 9: 9\n",
      "4\n",
      "9\n",
      "you win\n"
     ]
    }
   ],
   "source": [
    "#lottery game\n",
    "import random\n",
    "a=int(input(\"enter no of times you want to play: \"))\n",
    "for x in range(a):\n",
    "    comp=random.randint(1,9)\n",
    "    user=int(input(\"enter any no between 1 and 9: \"))\n",
    "    print(comp)\n",
    "    print(user)\n",
    "\n",
    "    if comp>user:\n",
    "      print(\"you lose\")\n",
    "    elif comp<user:\n",
    "      print(\"you win\")\n",
    "    else:\n",
    "      print(\"tie\")\n",
    "    \n",
    "    \n"
   ]
  },
  {
   "cell_type": "code",
   "execution_count": 23,
   "id": "fbdaa0fd",
   "metadata": {},
   "outputs": [
    {
     "name": "stdout",
     "output_type": "stream",
     "text": [
      "enter no of time you want to play: 10\n",
      "enter either r/p/s: r\n",
      "s\n",
      "r\n",
      "you win\n",
      "enter either r/p/s: r\n",
      "p\n",
      "r\n",
      "computer win\n",
      "enter either r/p/s: r\n",
      "p\n",
      "r\n",
      "computer win\n",
      "enter either r/p/s: r\n",
      "s\n",
      "r\n",
      "you win\n",
      "enter either r/p/s: r\n",
      "p\n",
      "r\n",
      "computer win\n",
      "enter either r/p/s: r\n",
      "s\n",
      "r\n",
      "you win\n",
      "enter either r/p/s: r\n",
      "p\n",
      "r\n",
      "computer win\n",
      "enter either r/p/s: r\n",
      "p\n",
      "r\n",
      "computer win\n",
      "enter either r/p/s: r\n",
      "s\n",
      "r\n",
      "you win\n",
      "enter either r/p/s: r\n",
      "r\n",
      "r\n",
      "its a tie\n"
     ]
    }
   ],
   "source": [
    "#rock_paper_scissor game\n",
    "import random\n",
    "list1=[\"r\",\"p\",\"s\"]\n",
    "a=int(input(\"enter no of time you want to play: \"))\n",
    "for x in range(a):\n",
    "    user=input(\"enter either r/p/s: \")\n",
    "    comp=random.choice(list1)\n",
    "    print(comp)\n",
    "    print(user)\n",
    "    if comp==\"r\" and user==\"p\":\n",
    "        print(\"you win\")\n",
    "    elif comp==\"r\" and user==\"s\":\n",
    "        print(\"computer win\")\n",
    "    elif comp==\"p\" and user==\"r\":\n",
    "        print(\"computer win\")\n",
    "    elif comp==\"p\" and user==\"s\":\n",
    "        print(\"you win\")\n",
    "    elif comp==\"s\" and user==\"r\":\n",
    "        print(\"you win\")\n",
    "    elif comp==\"s\" and user==\"p\":\n",
    "        print(\"computer win\")\n",
    "    elif (comp==\"r\" and user==\"r\") | (comp==\"p\" and user==\"p\") | (comp==\"s\" and user==\"s\"):\n",
    "        print(\"its a tie\")\n",
    "    else:\n",
    "        print(\"error!!!\")"
   ]
  },
  {
   "cell_type": "code",
   "execution_count": null,
   "id": "533c216b",
   "metadata": {},
   "outputs": [],
   "source": []
  },
  {
   "cell_type": "code",
   "execution_count": null,
   "id": "b9ab4026",
   "metadata": {},
   "outputs": [],
   "source": []
  }
 ],
 "metadata": {
  "kernelspec": {
   "display_name": "Python 3 (ipykernel)",
   "language": "python",
   "name": "python3"
  },
  "language_info": {
   "codemirror_mode": {
    "name": "ipython",
    "version": 3
   },
   "file_extension": ".py",
   "mimetype": "text/x-python",
   "name": "python",
   "nbconvert_exporter": "python",
   "pygments_lexer": "ipython3",
   "version": "3.10.9"
  }
 },
 "nbformat": 4,
 "nbformat_minor": 5
}
