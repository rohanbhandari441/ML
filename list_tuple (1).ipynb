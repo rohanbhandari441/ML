{
 "cells": [
  {
   "cell_type": "code",
   "execution_count": 1,
   "id": "21ca515a",
   "metadata": {},
   "outputs": [
    {
     "name": "stdout",
     "output_type": "stream",
     "text": [
      "['rohan', 'chetan', 'dheeraj']\n"
     ]
    }
   ],
   "source": [
    "list1=[\"rohan\",\"chetan\",\"dheeraj\"]\n",
    "print(list1)"
   ]
  },
  {
   "cell_type": "code",
   "execution_count": 17,
   "id": "fa4e7ae9",
   "metadata": {},
   "outputs": [
    {
     "name": "stdout",
     "output_type": "stream",
     "text": [
      "dheeraj\n"
     ]
    }
   ],
   "source": [
    "list1=[\"rohan\",\"chetan\",\"dheeraj\"]\n",
    "print(list1[-1])"
   ]
  },
  {
   "cell_type": "code",
   "execution_count": 4,
   "id": "8f6febe1",
   "metadata": {},
   "outputs": [
    {
     "name": "stdout",
     "output_type": "stream",
     "text": [
      "[4, 5]\n"
     ]
    }
   ],
   "source": [
    "list3=[1,2,3,4,5,6,7]\n",
    "print(list3[3:5])"
   ]
  },
  {
   "cell_type": "code",
   "execution_count": 16,
   "id": "eaf59d2b",
   "metadata": {},
   "outputs": [
    {
     "name": "stdout",
     "output_type": "stream",
     "text": [
      "before append []\n",
      "2 3 4\n",
      "after append ['2 3 4']\n"
     ]
    }
   ],
   "source": [
    "list4=[]\n",
    "print(\"before append\",list4)\n",
    "x=(input(\"\"))\n",
    "list4.append(x)\n",
    "print(\"after append\",list4)"
   ]
  },
  {
   "cell_type": "code",
   "execution_count": 19,
   "id": "96f0bfaf",
   "metadata": {},
   "outputs": [
    {
     "name": "stdout",
     "output_type": "stream",
     "text": [
      "6\n",
      "[1, 2, '6', 3, 4]\n"
     ]
    }
   ],
   "source": [
    "list5=[1,2,3,4]\n",
    "x=input(\"\")\n",
    "list5.insert(2,x)\n",
    "print(list5)"
   ]
  },
  {
   "cell_type": "code",
   "execution_count": 36,
   "id": "e5ae528d",
   "metadata": {},
   "outputs": [
    {
     "name": "stdout",
     "output_type": "stream",
     "text": [
      "value available at index 2: \n",
      "555\n",
      "new value : \n",
      "300\n"
     ]
    }
   ],
   "source": [
    "list6=['phy','chem',555,2000];\n",
    "print(\"value available at index 2: \")\n",
    "print(list6[2])\n",
    "list6[2]=300\n",
    "print(\"new value : \")\n",
    "print(list6[2])\n"
   ]
  },
  {
   "cell_type": "code",
   "execution_count": 64,
   "id": "8a34c5be",
   "metadata": {},
   "outputs": [
    {
     "name": "stdout",
     "output_type": "stream",
     "text": [
      "1 2 5 6\n",
      "list ['1', '2', '5', '6']\n",
      "['1', '2']\n",
      "['1', '2', '4']\n",
      "['1', '2', '3', '4']\n"
     ]
    }
   ],
   "source": [
    "x=input()\n",
    "list=x.split()\n",
    "print(\"list\",list)\n",
    "del list[3]\n",
    "del list[2]\n",
    "print(list)\n",
    "list.append('4')\n",
    "print(list)\n",
    "list.insert(2,'3')\n",
    "print(list)"
   ]
  },
  {
   "cell_type": "code",
   "execution_count": 70,
   "id": "47ce11d5",
   "metadata": {},
   "outputs": [
    {
     "name": "stdout",
     "output_type": "stream",
     "text": [
      "printing employing data...\n",
      "name: john id: 102 country : usa\n",
      "printing departments...\n",
      " department 1:\n",
      "name: cs id: 10\n",
      " department 2:\n",
      "name: it id: 11\n",
      "HOD details..\n",
      "CS HOD: mr.chetan ID: 10\n",
      "IT HOD: mr.rohan ID: 11\n",
      "<class 'list'> <class 'list'> <class 'list'> <class 'list'> <class 'list'>\n"
     ]
    }
   ],
   "source": [
    "emp=[\"john\", 102, \"usa\"]\n",
    "dep1=[\"cs\",10]\n",
    "dep2=[\"it\",11]\n",
    "hod_cs=[10,\"mr.chetan\"]\n",
    "hod_it=[11,\"mr.rohan\"]\n",
    "\n",
    "print(\"printing employing data...\")\n",
    "print( \"name:\",emp[0], \"id:\",emp[1], \"country :\",emp[2])\n",
    "print(\"printing departments...\")\n",
    "print(\" department 1:\")\n",
    "print(\"name:\",dep1[0], \"id:\",dep1[1])\n",
    "print(\" department 2:\")\n",
    "print(\"name:\",dep2[0], \"id:\",dep2[1])\n",
    "print(\"HOD details..\")\n",
    "print(\"CS HOD:\",hod_cs[1],\"ID:\",hod_cs[0])\n",
    "print(\"IT HOD:\",hod_it[1],\"ID:\",hod_it[0])\n",
    "print(type(emp),type(dep1),type(dep2),type(hod_cs),type(hod_it))"
   ]
  },
  {
   "cell_type": "code",
   "execution_count": 85,
   "id": "d18cd965",
   "metadata": {},
   "outputs": [
    {
     "name": "stdout",
     "output_type": "stream",
     "text": [
      "('apple', 'banana', 'orange', 2)\n",
      "banana\n",
      "<class 'tuple'>\n"
     ]
    }
   ],
   "source": [
    "t1=(\"apple\",\"banana\",\"orange\",2)\n",
    "\n",
    "print(t1)\n",
    "print(t1[1])\n",
    "print(type(t1))"
   ]
  },
  {
   "cell_type": "code",
   "execution_count": 87,
   "id": "9b547852",
   "metadata": {},
   "outputs": [
    {
     "name": "stdout",
     "output_type": "stream",
     "text": [
      "('hi', 'hello', 'hsm')\n"
     ]
    }
   ],
   "source": [
    "tup=('hi','hello','hsm')\n",
    "#y=list(tup)\n",
    "print(tup)"
   ]
  },
  {
   "cell_type": "code",
   "execution_count": null,
   "id": "2036ca30",
   "metadata": {},
   "outputs": [],
   "source": []
  }
 ],
 "metadata": {
  "kernelspec": {
   "display_name": "Python 3 (ipykernel)",
   "language": "python",
   "name": "python3"
  },
  "language_info": {
   "codemirror_mode": {
    "name": "ipython",
    "version": 3
   },
   "file_extension": ".py",
   "mimetype": "text/x-python",
   "name": "python",
   "nbconvert_exporter": "python",
   "pygments_lexer": "ipython3",
   "version": "3.10.9"
  }
 },
 "nbformat": 4,
 "nbformat_minor": 5
}
