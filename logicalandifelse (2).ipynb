{
 "cells": [
  {
   "cell_type": "code",
   "execution_count": 35,
   "id": "6fa94207",
   "metadata": {},
   "outputs": [
    {
     "name": "stdout",
     "output_type": "stream",
     "text": [
      "ghjk\n"
     ]
    }
   ],
   "source": [
    "x=(\"GHJK\")\n",
    "print(x.lower())"
   ]
  },
  {
   "cell_type": "code",
   "execution_count": 25,
   "id": "3a256cfe",
   "metadata": {},
   "outputs": [
    {
     "name": "stdout",
     "output_type": "stream",
     "text": [
      "hi world\n"
     ]
    }
   ],
   "source": [
    "a=\"hello world\"\n",
    "print(a.replace(\"hello\",\"hi\")) #replaces the 1st \"\" with 2nd \"\" in the bracket"
   ]
  },
  {
   "cell_type": "code",
   "execution_count": 3,
   "id": "0606f9c3",
   "metadata": {},
   "outputs": [
    {
     "name": "stdout",
     "output_type": "stream",
     "text": [
      "enter any string seperated by ','\n",
      "ee,dd,ff\n",
      "['ee', 'dd', 'ff']\n"
     ]
    }
   ],
   "source": [
    "print(\"enter any string seperated by ','\")\n",
    "a=input(\"\")\n",
    "print(a.split(\",\")) #seperates words which have a \".\" or \",\" between them"
   ]
  },
  {
   "cell_type": "code",
   "execution_count": 1,
   "id": "917bba43",
   "metadata": {},
   "outputs": [
    {
     "name": "stdout",
     "output_type": "stream",
     "text": [
      "enter any string\n",
      "1234567\n",
      "56\n"
     ]
    }
   ],
   "source": [
    "print(\"enter any string\")\n",
    "y=input(\"\")\n",
    "print(y[4:6])#prints leaving first four characters out of mentioned 6"
   ]
  },
  {
   "cell_type": "code",
   "execution_count": null,
   "id": "e2893e82",
   "metadata": {},
   "outputs": [],
   "source": [
    "x=\"p\"\n",
    "print(x.replace(\"p\",\"paranatti\"))"
   ]
  },
  {
   "cell_type": "code",
   "execution_count": 57,
   "id": "8b35aa58",
   "metadata": {},
   "outputs": [
    {
     "name": "stdout",
     "output_type": "stream",
     "text": [
      "enter ur name and surname\n",
      "rohan\n",
      "b\n",
      "the users 1st name is rohan and the users last name is b\n"
     ]
    }
   ],
   "source": [
    "print(\"enter ur name and surname\")\n",
    "x=input(\"\")\n",
    "y=input(\"\")\n",
    "print(\"the users 1st name is\" ,x ,\"and the users last name is\" ,y)\n",
    "\n"
   ]
  },
  {
   "cell_type": "code",
   "execution_count": 93,
   "id": "ee578334",
   "metadata": {},
   "outputs": [
    {
     "name": "stdout",
     "output_type": "stream",
     "text": [
      "enter 2 numbers\n",
      "9\n",
      "10\n",
      "19\n",
      "-1\n",
      "90\n",
      "0.9\n",
      "9\n",
      "3486784401\n",
      "3\n",
      "8\n",
      "11\n",
      "0\n"
     ]
    }
   ],
   "source": [
    "print(\"enter 2 numbers\")\n",
    "x=int(input())\n",
    "y=int(input())\n",
    "print(x+y)\n",
    "print(x-y)\n",
    "print(x*y)\n",
    "print(x/y)\n",
    "print(x%y)\n",
    "print(x**y)\n",
    "print(x^y)\n",
    "print(x&y)\n",
    "print(x|y)\n",
    "print(x>>y)"
   ]
  },
  {
   "cell_type": "code",
   "execution_count": 86,
   "id": "02c1b4ed",
   "metadata": {},
   "outputs": [
    {
     "name": "stdout",
     "output_type": "stream",
     "text": [
      "enter any number\n",
      "3\n",
      "it is odd\n"
     ]
    }
   ],
   "source": [
    "print(\"enter any number\")\n",
    "x=int(input())\n",
    "if x%2==0: print(\"it is even\")\n",
    "else: print(\"it is odd\")\n",
    "    "
   ]
  },
  {
   "cell_type": "code",
   "execution_count": 111,
   "id": "4194b2c6",
   "metadata": {},
   "outputs": [
    {
     "name": "stdout",
     "output_type": "stream",
     "text": [
      "5\n",
      "5\n",
      "6\n",
      "7\n",
      "8\n",
      "9\n",
      "10\n",
      "11\n",
      "12\n",
      "13\n",
      "14\n",
      "15\n",
      "16\n",
      "17\n",
      "18\n",
      "19\n"
     ]
    }
   ],
   "source": [
    "x=int(input())\n",
    "for x in range(x,20,1):\n",
    " print(x)"
   ]
  },
  {
   "cell_type": "code",
   "execution_count": 120,
   "id": "ab31b141",
   "metadata": {},
   "outputs": [
    {
     "name": "stdout",
     "output_type": "stream",
     "text": [
      "3\n",
      "8\n",
      "false\n"
     ]
    }
   ],
   "source": [
    "x=int(input())\n",
    "print(x+5)\n",
    "if (x+5)>=10:\n",
    "    print(\"true\")\n",
    "else:\n",
    "    print(\"false\")\n",
    "\n",
    " "
   ]
  },
  {
   "cell_type": "code",
   "execution_count": null,
   "id": "0e0410b5",
   "metadata": {},
   "outputs": [],
   "source": []
  }
 ],
 "metadata": {
  "kernelspec": {
   "display_name": "Python 3 (ipykernel)",
   "language": "python",
   "name": "python3"
  },
  "language_info": {
   "codemirror_mode": {
    "name": "ipython",
    "version": 3
   },
   "file_extension": ".py",
   "mimetype": "text/x-python",
   "name": "python",
   "nbconvert_exporter": "python",
   "pygments_lexer": "ipython3",
   "version": "3.10.9"
  }
 },
 "nbformat": 4,
 "nbformat_minor": 5
}
